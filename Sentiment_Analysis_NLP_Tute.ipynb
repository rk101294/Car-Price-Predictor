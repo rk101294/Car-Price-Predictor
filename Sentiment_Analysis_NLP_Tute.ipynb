{
  "nbformat": 4,
  "nbformat_minor": 0,
  "metadata": {
    "colab": {
      "name": "Sentiment_Analysis_NLP_Tute.ipynb",
      "provenance": [],
      "collapsed_sections": [],
      "mount_file_id": "18fWvEdl4yOTy8KxF0uwdhfxrXQEHC3h6",
      "authorship_tag": "ABX9TyM1wcoWZXo2BJi3HykvQYHy",
      "include_colab_link": true
    },
    "kernelspec": {
      "name": "python3",
      "display_name": "Python 3"
    },
    "language_info": {
      "name": "python"
    }
  },
  "cells": [
    {
      "cell_type": "markdown",
      "metadata": {
        "id": "view-in-github",
        "colab_type": "text"
      },
      "source": [
        "<a href=\"https://colab.research.google.com/github/rk101294/Car-Price-Predictor/blob/main/Sentiment_Analysis_NLP_Tute.ipynb\" target=\"_parent\"><img src=\"https://colab.research.google.com/assets/colab-badge.svg\" alt=\"Open In Colab\"/></a>"
      ]
    },
    {
      "cell_type": "markdown",
      "metadata": {
        "id": "-v89-Vzqv_tq"
      },
      "source": [
        "# Project: Develop an Embedding + CNN Model for Sentiment Analysis\n"
      ]
    },
    {
      "cell_type": "markdown",
      "metadata": {
        "id": "Zy0wUxYUNjGK"
      },
      "source": [
        "# 1. Import all imporatant libraries"
      ]
    },
    {
      "cell_type": "code",
      "metadata": {
        "id": "rwf7LHt2v66l"
      },
      "source": [
        "from nltk.corpus import stopwords \n",
        "import string \n",
        "import re \n",
        "from os import listdir \n",
        "from numpy import array \n",
        "from keras.preprocessing.text import Tokenizer \n",
        "from keras.preprocessing.sequence import pad_sequences \n",
        "from keras.utils.vis_utils import plot_model \n",
        "from keras.models import Sequential \n",
        "from keras.layers import Dense \n",
        "from keras.layers import Flatten \n",
        "from keras.layers import Embedding \n",
        "from keras.layers.convolutional import Conv1D \n",
        "from collections import Counter\n",
        "from tensorflow.keras.layers import MaxPooling1D\n",
        "from keras.models import load_model\n",
        "\n",
        "\n",
        "# import nltk\n",
        "# nltk.download('stopwords')"
      ],
      "execution_count": 11,
      "outputs": []
    },
    {
      "cell_type": "markdown",
      "metadata": {
        "id": "7OmOD-t_Nv9q"
      },
      "source": [
        "# 2. Data Preparation\n",
        "\n",
        "This section, we will look at 3 things:\n",
        "1. Separation of data into training and test sets.\n",
        "2. Loading and cleaning the data to remove punctuation and numbers.\n",
        "3. Deﬁning a vocabulary of preferred words\n",
        "\n",
        "## 2.1. Loading and Cleaning Reviews\n",
        "The text data is already pretty clean; not much preparation is required. Without getting bogged down too much in the details, we will prepare the data using the following way:\n",
        "1. Split tokens on white space.\n",
        "2. Remove all punctuation from words.\n",
        "3. Remove all words that are not purely comprised of alphabetical characters.\n",
        "4. Remove all words that are known stop words. \n",
        "5. Remove all words that have a length ≤ 1 character"
      ]
    },
    {
      "cell_type": "code",
      "metadata": {
        "id": "OiWwIDPYkiJn",
        "colab": {
          "base_uri": "https://localhost:8080/"
        },
        "outputId": "5ab967cc-e6b1-429d-ceab-a50fbe80b374"
      },
      "source": [
        "# load doc into memory \n",
        "def load_doc(filename): \n",
        "  # open the file as read only \n",
        "  file = open(filename, 'r') \n",
        "  # read all text \n",
        "  text = file.read() \n",
        "  # close the file \n",
        "  file.close() \n",
        "  return text\n",
        "\n",
        "# turn a doc into clean tokens \n",
        "def clean_doc(doc): \n",
        "  # split into tokens by white space \n",
        "  tokens = doc.split() \n",
        "  # prepare regex for char filtering \n",
        "  re_punc = re.compile('[%s]' % re.escape(string.punctuation)) \n",
        "  # remove punctuation from each word \n",
        "  tokens = [re_punc.sub('', w) for w in tokens] \n",
        "  # remove remaining tokens that are not alphabetic \n",
        "  tokens = [word for word in tokens if word.isalpha()] \n",
        "  # filter out stop words \n",
        "  stop_words = set(stopwords.words('english')) \n",
        "  tokens = [w for w in tokens if not w in stop_words] \n",
        "  # filter out short tokens \n",
        "  tokens = [word for word in tokens if len(word) > 1] \n",
        "  return tokens\n",
        "\n",
        "# load the document \n",
        "filename = '/content/drive/MyDrive/Dataset/txt_sentoken/pos/cv000_29590.txt' \n",
        "text = load_doc(filename) \n",
        "tokens = clean_doc(text) \n",
        "print(tokens)\n",
        "print(type(tokens))\n",
        "print(len(tokens))\n"
      ],
      "execution_count": 2,
      "outputs": [
        {
          "output_type": "stream",
          "name": "stdout",
          "text": [
            "['films', 'adapted', 'comic', 'books', 'plenty', 'success', 'whether', 'theyre', 'superheroes', 'batman', 'superman', 'spawn', 'geared', 'toward', 'kids', 'casper', 'arthouse', 'crowd', 'ghost', 'world', 'theres', 'never', 'really', 'comic', 'book', 'like', 'hell', 'starters', 'created', 'alan', 'moore', 'eddie', 'campbell', 'brought', 'medium', 'whole', 'new', 'level', 'mid', 'series', 'called', 'watchmen', 'say', 'moore', 'campbell', 'thoroughly', 'researched', 'subject', 'jack', 'ripper', 'would', 'like', 'saying', 'michael', 'jackson', 'starting', 'look', 'little', 'odd', 'book', 'graphic', 'novel', 'pages', 'long', 'includes', 'nearly', 'consist', 'nothing', 'footnotes', 'words', 'dont', 'dismiss', 'film', 'source', 'get', 'past', 'whole', 'comic', 'book', 'thing', 'might', 'find', 'another', 'stumbling', 'block', 'hells', 'directors', 'albert', 'allen', 'hughes', 'getting', 'hughes', 'brothers', 'direct', 'seems', 'almost', 'ludicrous', 'casting', 'carrot', 'top', 'well', 'anything', 'riddle', 'better', 'direct', 'film', 'thats', 'set', 'ghetto', 'features', 'really', 'violent', 'street', 'crime', 'mad', 'geniuses', 'behind', 'menace', 'ii', 'society', 'ghetto', 'question', 'course', 'whitechapel', 'londons', 'east', 'end', 'filthy', 'sooty', 'place', 'whores', 'called', 'unfortunates', 'starting', 'get', 'little', 'nervous', 'mysterious', 'psychopath', 'carving', 'profession', 'surgical', 'precision', 'first', 'stiff', 'turns', 'copper', 'peter', 'godley', 'robbie', 'coltrane', 'world', 'enough', 'calls', 'inspector', 'frederick', 'abberline', 'johnny', 'depp', 'blow', 'crack', 'case', 'abberline', 'widower', 'prophetic', 'dreams', 'unsuccessfully', 'tries', 'quell', 'copious', 'amounts', 'absinthe', 'opium', 'upon', 'arriving', 'whitechapel', 'befriends', 'unfortunate', 'named', 'mary', 'kelly', 'heather', 'graham', 'say', 'isnt', 'proceeds', 'investigate', 'horribly', 'gruesome', 'crimes', 'even', 'police', 'surgeon', 'cant', 'stomach', 'dont', 'think', 'anyone', 'needs', 'briefed', 'jack', 'ripper', 'wont', 'go', 'particulars', 'say', 'moore', 'campbell', 'unique', 'interesting', 'theory', 'identity', 'killer', 'reasons', 'chooses', 'slay', 'comic', 'dont', 'bother', 'cloaking', 'identity', 'ripper', 'screenwriters', 'terry', 'hayes', 'vertical', 'limit', 'rafael', 'yglesias', 'les', 'mis', 'rables', 'good', 'job', 'keeping', 'hidden', 'viewers', 'end', 'funny', 'watch', 'locals', 'blindly', 'point', 'finger', 'blame', 'jews', 'indians', 'englishman', 'could', 'never', 'capable', 'committing', 'ghastly', 'acts', 'hells', 'ending', 'whistling', 'stonecutters', 'song', 'simpsons', 'days', 'holds', 'back', 'electric', 'carwho', 'made', 'steve', 'guttenberg', 'star', 'dont', 'worry', 'itll', 'make', 'sense', 'see', 'onto', 'hells', 'appearance', 'certainly', 'dark', 'bleak', 'enough', 'surprising', 'see', 'much', 'looks', 'like', 'tim', 'burton', 'film', 'planet', 'apes', 'times', 'seems', 'like', 'sleepy', 'hollow', 'print', 'saw', 'wasnt', 'completely', 'finished', 'color', 'music', 'finalized', 'comments', 'marilyn', 'manson', 'cinematographer', 'peter', 'deming', 'dont', 'say', 'word', 'ably', 'captures', 'dreariness', 'victorianera', 'london', 'helped', 'make', 'flashy', 'killing', 'scenes', 'remind', 'crazy', 'flashbacks', 'twin', 'peaks', 'even', 'though', 'violence', 'film', 'pales', 'comparison', 'blackandwhite', 'comic', 'oscar', 'winner', 'martin', 'childs', 'shakespeare', 'love', 'production', 'design', 'turns', 'original', 'prague', 'surroundings', 'one', 'creepy', 'place', 'even', 'acting', 'hell', 'solid', 'dreamy', 'depp', 'turning', 'typically', 'strong', 'performance', 'deftly', 'handling', 'british', 'accent', 'ians', 'holm', 'joe', 'goulds', 'secret', 'richardson', 'dalmatians', 'log', 'great', 'supporting', 'roles', 'big', 'surprise', 'graham', 'cringed', 'first', 'time', 'opened', 'mouth', 'imagining', 'attempt', 'irish', 'accent', 'actually', 'wasnt', 'half', 'bad', 'film', 'however', 'good', 'strong', 'violencegore', 'sexuality', 'language', 'drug', 'content']\n",
            "<class 'list'>\n",
            "402\n"
          ]
        }
      ]
    },
    {
      "cell_type": "markdown",
      "metadata": {
        "id": "bo49nZzqOkqN"
      },
      "source": [
        "## Observation:\n",
        "1. Running the example prints a long list of clean tokens\n",
        "2. Total size is 402"
      ]
    },
    {
      "cell_type": "markdown",
      "metadata": {
        "id": "7AGHDGfWO2en"
      },
      "source": [
        "## 2.2 Deﬁne a Vocabulary\n",
        "\n",
        "It is important to deﬁne a vocabulary of known words when using a text model. The more words, the larger the representation of documents, therefore it is important to constrain the words to only those believed to be predictive.\n",
        "\n",
        "We can develop a vocabulary as a Counter, which is a dictionary mapping of words and their count that allows us to easily update and query. Each document can be added to the counter (a new function called add doc to vocab()) and we can step over all of the reviews in the negative directory and then the positive directory (a new function called process docs()). The complete example is listed below."
      ]
    },
    {
      "cell_type": "code",
      "metadata": {
        "colab": {
          "base_uri": "https://localhost:8080/"
        },
        "id": "45zyTyeOxTBA",
        "outputId": "07135f70-fba4-4021-f92e-f0be1b652fd2"
      },
      "source": [
        "# load doc and add to vocab \n",
        "def add_doc_to_vocab(filename, vocab): \n",
        "  # load doc \n",
        "  doc = load_doc(filename) \n",
        "  # clean doc \n",
        "  tokens = clean_doc(doc) \n",
        "  # update counts\n",
        "  vocab.update(tokens)\n",
        "\n",
        "# load all docs in a directory \n",
        "def process_docs(directory, vocab): \n",
        "  # walk through all files in the folder \n",
        "  for filename in listdir(directory): \n",
        "    # skip any reviews in the test set \n",
        "    if filename.startswith('cv9'): \n",
        "      continue \n",
        "    # create the full path of the file to open \n",
        "    path = directory + '/' + filename \n",
        "    # add doc to vocab \n",
        "    add_doc_to_vocab(path, vocab)\n",
        "  \n",
        "# define vocab \n",
        "vocab = Counter() \n",
        "# add all docs to vocab \n",
        "process_docs('/content/drive/MyDrive/Dataset/txt_sentoken/pos', vocab) \n",
        "process_docs('/content/drive/MyDrive/Dataset/txt_sentoken/neg', vocab) \n",
        "# print the size of the vocab \n",
        "print(len(vocab)) \n",
        "# print the top words in the vocab \n",
        "print(vocab.most_common(50))"
      ],
      "execution_count": 3,
      "outputs": [
        {
          "output_type": "stream",
          "name": "stdout",
          "text": [
            "44276\n",
            "[('film', 7983), ('one', 4946), ('movie', 4826), ('like', 3201), ('even', 2262), ('good', 2080), ('time', 2041), ('story', 1907), ('films', 1873), ('would', 1844), ('much', 1824), ('also', 1757), ('characters', 1735), ('get', 1724), ('character', 1703), ('two', 1643), ('first', 1588), ('see', 1557), ('way', 1515), ('well', 1511), ('make', 1418), ('really', 1407), ('little', 1351), ('life', 1334), ('plot', 1288), ('people', 1269), ('could', 1248), ('bad', 1248), ('scene', 1241), ('movies', 1238), ('never', 1201), ('best', 1179), ('new', 1140), ('scenes', 1135), ('man', 1131), ('many', 1130), ('doesnt', 1118), ('know', 1092), ('dont', 1086), ('hes', 1024), ('great', 1014), ('another', 992), ('action', 985), ('love', 977), ('us', 967), ('go', 952), ('director', 948), ('end', 946), ('something', 945), ('still', 936)]\n"
          ]
        }
      ]
    },
    {
      "cell_type": "markdown",
      "metadata": {
        "id": "5ZZDKNQTPTUv"
      },
      "source": [
        "## Observation:\n",
        "\n",
        "Running the example shows that we have a vocabulary of 44,276 words. We also can see a sample of the top 50 most used words in the movie reviews. Note that this vocabulary was constructed based on only those reviews in the training dataset.\n"
      ]
    },
    {
      "cell_type": "code",
      "metadata": {
        "colab": {
          "base_uri": "https://localhost:8080/"
        },
        "id": "XHrj8oxA4UJA",
        "outputId": "a8904c8a-30a4-4db5-ff3c-dbbf595e3bfc"
      },
      "source": [
        "# save list to file \n",
        "def save_list(lines, filename): \n",
        "  # convert lines to a single blob of text \n",
        "  data = '\\n'.join(lines) \n",
        "  # open file \n",
        "  file = open(filename, 'w') \n",
        "  # write text \n",
        "  file.write(data) \n",
        "  # close file \n",
        "  file.close()\n",
        "\n",
        "# keep tokens with a min occurrence \n",
        "min_occurane = 2 \n",
        "tokens = [k for k,c in vocab.items() if c >= min_occurane] \n",
        "print(len(tokens)) \n",
        "# save tokens to a vocabulary file \n",
        "save_list(tokens, 'vocab.txt')"
      ],
      "execution_count": 4,
      "outputs": [
        {
          "output_type": "stream",
          "name": "stdout",
          "text": [
            "25767\n"
          ]
        }
      ]
    },
    {
      "cell_type": "markdown",
      "metadata": {
        "id": "jXrENUoAPfUo"
      },
      "source": [
        "## Observation:\n",
        "\n",
        "1. Running the above example with this addition shows that the vocabulary size drops by a little more than half its size, from 44,276 to 25,767 words.\n",
        "\n",
        "2. Running the min occurrence ﬁlter on the vocabulary and saving it to ﬁle, you should now have a new ﬁle called vocab.txt with only the words we are interested in."
      ]
    },
    {
      "cell_type": "markdown",
      "metadata": {
        "id": "k5BfyyXJPx4t"
      },
      "source": [
        "# 3. Train CNN With Embedding Layer\n",
        "\n",
        "1. A word embedding is a way of representing text where each word in the vocabulary is represented by a real valued vector in a high-dimensional space. The vectors are learned in such a way that words that have similar meanings will have similar representation in the vector space (close in the vector space).\n",
        "\n",
        "2. The real valued vector representation for words can be learned while training the neural network. We can do this in the Keras deep learning library using the Embedding layer. The ﬁrst step is to load the vocabulary. We will use it to ﬁlter out words from movie reviews that we are not interested in. If you have worked through the previous section, you should have a local ﬁle called vocab.txt with one word per line. We can load that ﬁle and build a vocabulary as a set for checking the validity of tokens."
      ]
    },
    {
      "cell_type": "markdown",
      "metadata": {
        "id": "2otBWb65QSl0"
      },
      "source": [
        "## NOTE:\n",
        "\n",
        "1. The next step is to encode each document as a sequence of integers. The Keras Embedding layer requires integer inputs where each integer maps to a single token that has a speciﬁc real-valued vector representation within the embedding. These vectors are random at the beginning of training, but during training become meaningful to the network. We can encode the training documents as sequences of integers using the Tokenizer class in the Keras API. First, we must construct an instance of the class then train it on all documents in the training dataset. In this case, it develops a vocabulary of all tokens in the training dataset and develops a consistent mapping from words in the vocabulary to unique integers. We could just as easily develop this mapping ourselves using our vocabulary ﬁle.\n",
        "\n",
        "2. We also need to ensure that all documents have the same length. This is a requirement of Keras for eﬃcient computation. We could truncate reviews to the smallest size or zero-pad (pad with the value 0) reviews to the maximum length, or some hybrid. In this case, we will pad all reviews to the length of the longest review in the training dataset. First, we can ﬁnd the longest review using the max() function on the training dataset and take its length. We can then call the Keras function pad sequences() to pad the sequences to the maximum length by adding 0 values on the end."
      ]
    },
    {
      "cell_type": "code",
      "metadata": {
        "id": "76KhzA-zs3X0"
      },
      "source": [
        "# load doc into memory \n",
        "def load_doc(filename): \n",
        "  # open the file as read only \n",
        "  file = open(filename, 'r') \n",
        "  # read all text \n",
        "  text = file.read() \n",
        "  # close the file \n",
        "  file.close() \n",
        "  return text\n",
        "\n",
        "# turn a doc into clean tokens \n",
        "def clean_doc(doc, vocab): \n",
        "  # split into tokens by white space \n",
        "  tokens = doc.split() \n",
        "  # prepare regex for char filtering \n",
        "  re_punc = re.compile('[%s]' % re.escape(string.punctuation)) \n",
        "  # remove punctuation from each word \n",
        "  tokens = [re_punc.sub('', w) for w in tokens] \n",
        "  # filter out tokens not in vocab \n",
        "  tokens = [w for w in tokens if w in vocab] \n",
        "  tokens = ' '.join(tokens) \n",
        "  return tokens\n",
        "\n",
        "# load all docs in a directory \n",
        "def process_docs(directory, vocab, is_train): \n",
        "  documents = list() \n",
        "  # walk through all files in the folder \n",
        "  for filename in listdir(directory): \n",
        "    # skip any reviews in the test set \n",
        "    if is_train and filename.startswith('cv9'): \n",
        "      continue \n",
        "    if not is_train and not filename.startswith('cv9'): \n",
        "      continue \n",
        "    # create the full path of the file to open \n",
        "    path = directory + '/' + filename \n",
        "    # load the doc \n",
        "    doc = load_doc(path)\n",
        "    # clean doc \n",
        "    tokens = clean_doc(doc, vocab) \n",
        "    # add to list \n",
        "    documents.append(tokens) \n",
        "  return documents"
      ],
      "execution_count": 5,
      "outputs": []
    },
    {
      "cell_type": "code",
      "metadata": {
        "id": "IR6MDxt6taJF"
      },
      "source": [
        "# load and clean a dataset \n",
        "def load_clean_dataset(vocab, is_train): \n",
        "  # load documents \n",
        "  neg = process_docs('/content/drive/MyDrive/Dataset/txt_sentoken/neg', vocab, is_train) \n",
        "  pos = process_docs('/content/drive/MyDrive/Dataset/txt_sentoken/pos', vocab, is_train) \n",
        "  docs = neg + pos \n",
        "  # prepare labels \n",
        "  labels = array([0 for _ in range(len(neg))] + [1 for _ in range(len(pos))]) \n",
        "  return docs, labels\n"
      ],
      "execution_count": 6,
      "outputs": []
    },
    {
      "cell_type": "code",
      "metadata": {
        "id": "sbAxgzqRt1OA"
      },
      "source": [
        "# fit a tokenizer \n",
        "def create_tokenizer(lines): \n",
        "  tokenizer = Tokenizer() \n",
        "  tokenizer.fit_on_texts(lines) \n",
        "  return tokenizer\n",
        "\n",
        "# integer encode and pad documents \n",
        "def encode_docs(tokenizer, max_length, docs): \n",
        "  # integer encode \n",
        "  encoded = tokenizer.texts_to_sequences(docs) \n",
        "  # pad sequences \n",
        "  padded = pad_sequences(encoded, maxlen=max_length, padding='post') \n",
        "  return padded\n"
      ],
      "execution_count": 7,
      "outputs": []
    },
    {
      "cell_type": "markdown",
      "metadata": {
        "id": "OBvSJ8yiQtoV"
      },
      "source": [
        "## NOTE: \n",
        "\n",
        "We will use a 100-dimensional vector space, but you could try other values, such as 50 or 150. Finally, the maximum document length was calculated above in the max length variable used during padding. The complete model deﬁnition is listed below including the Embedding layer. We use a Convolutional Neural Network (CNN) as they have proven to be successful at document classiﬁcation problems. A conservative CNN conﬁguration is used with 32 ﬁlters (parallel ﬁelds for processing words) and a kernel size of 8 with a rectiﬁed linear (relu) activation function. This is followed by a pooling layer that reduces the output of the convolutional layer by half. Next, the 2D output from the CNN part of the model is ﬂattened to one long 2D vector to represent the features extracted by the CNN. The back-end of the model is a standard Multilayer Perceptron layers to interpret the CNN features. The output layer uses a sigmoid activation function to output a value between 0 and 1 for the negative and positive sentiment in the review."
      ]
    },
    {
      "cell_type": "code",
      "metadata": {
        "id": "a5Ac5V2RuCqZ"
      },
      "source": [
        "# define the model \n",
        "def define_model(vocab_size, max_length): \n",
        "  model = Sequential() \n",
        "  model.add(Embedding(vocab_size, 100, input_length=max_length)) \n",
        "  model.add(Conv1D(filters=32, kernel_size=4, activation='relu')) \n",
        "  model.add(MaxPooling1D(pool_size=2)) \n",
        "  model.add(Flatten()) \n",
        "  model.add(Dense(10, activation='relu')) \n",
        "  model.add(Dense(1, activation='sigmoid')) \n",
        "  # compile network \n",
        "  model.compile(loss='binary_crossentropy', optimizer='adam', metrics=['accuracy']) \n",
        "  # summarize defined model \n",
        "  model.summary() \n",
        "  plot_model(model, to_file='model.png', show_shapes=True) \n",
        "  return model\n"
      ],
      "execution_count": 8,
      "outputs": []
    },
    {
      "cell_type": "code",
      "metadata": {
        "colab": {
          "base_uri": "https://localhost:8080/"
        },
        "id": "9udy1_0cuXw4",
        "outputId": "e0e465f3-6563-41d7-f2dd-aacb94099bf5"
      },
      "source": [
        "\n",
        "\n",
        "# load the vocabulary \n",
        "vocab_filename = 'vocab.txt' \n",
        "vocab = load_doc(vocab_filename) \n",
        "vocab = set(vocab.split()) \n",
        "# load training data \n",
        "train_docs, ytrain = load_clean_dataset(vocab, True) \n",
        "# create the tokenizer \n",
        "tokenizer = create_tokenizer(train_docs) \n",
        "# define vocabulary size \n",
        "vocab_size = len(tokenizer.word_index) + 1\n",
        "print('Vocabulary size: %d' % vocab_size) \n",
        "\n",
        "# calculate the maximum sequence length \n",
        "max_length = max([len(s.split()) for s in train_docs]) \n",
        "print('Maximum length: %d' % max_length) \n",
        "# encode data \n",
        "Xtrain = encode_docs(tokenizer, max_length, train_docs) \n",
        "# define model \n",
        "model = define_model(vocab_size, max_length) \n",
        "\n",
        "# fit network \n",
        "# Next, we ﬁt the network on the training data. \n",
        "# We use a binary cross entropy loss function because the problem we are learning is a binary classiﬁcation problem\n",
        "model.fit(Xtrain, ytrain, epochs=10, verbose=2) \n",
        "# save the model \n",
        "model.save('model.h5')"
      ],
      "execution_count": 9,
      "outputs": [
        {
          "output_type": "stream",
          "name": "stdout",
          "text": [
            "Vocabulary size: 25768\n",
            "Maximum length: 1317\n",
            "Model: \"sequential\"\n",
            "_________________________________________________________________\n",
            "Layer (type)                 Output Shape              Param #   \n",
            "=================================================================\n",
            "embedding (Embedding)        (None, 1317, 100)         2576800   \n",
            "_________________________________________________________________\n",
            "conv1d (Conv1D)              (None, 1314, 32)          12832     \n",
            "_________________________________________________________________\n",
            "max_pooling1d (MaxPooling1D) (None, 657, 32)           0         \n",
            "_________________________________________________________________\n",
            "flatten (Flatten)            (None, 21024)             0         \n",
            "_________________________________________________________________\n",
            "dense (Dense)                (None, 10)                210250    \n",
            "_________________________________________________________________\n",
            "dense_1 (Dense)              (None, 1)                 11        \n",
            "=================================================================\n",
            "Total params: 2,799,893\n",
            "Trainable params: 2,799,893\n",
            "Non-trainable params: 0\n",
            "_________________________________________________________________\n",
            "Epoch 1/10\n",
            "57/57 - 10s - loss: 0.6936 - accuracy: 0.4811\n",
            "Epoch 2/10\n",
            "57/57 - 9s - loss: 0.6840 - accuracy: 0.5506\n",
            "Epoch 3/10\n",
            "57/57 - 9s - loss: 0.3847 - accuracy: 0.8306\n",
            "Epoch 4/10\n",
            "57/57 - 9s - loss: 0.0334 - accuracy: 0.9939\n",
            "Epoch 5/10\n",
            "57/57 - 9s - loss: 0.0048 - accuracy: 1.0000\n",
            "Epoch 6/10\n",
            "57/57 - 9s - loss: 0.0023 - accuracy: 1.0000\n",
            "Epoch 7/10\n",
            "57/57 - 9s - loss: 0.0016 - accuracy: 1.0000\n",
            "Epoch 8/10\n",
            "57/57 - 9s - loss: 0.0011 - accuracy: 1.0000\n",
            "Epoch 9/10\n",
            "57/57 - 9s - loss: 8.7569e-04 - accuracy: 1.0000\n",
            "Epoch 10/10\n",
            "57/57 - 9s - loss: 6.9994e-04 - accuracy: 1.0000\n"
          ]
        }
      ]
    },
    {
      "cell_type": "markdown",
      "metadata": {
        "id": "HSe54S-mQ6kB"
      },
      "source": [
        "## Observation:\n",
        "\n",
        "1. We can see that the Embedding layer expects documents with a length of 1,317 words as input and encodes each word in the document as a 100 element vector.\n",
        "\n",
        "2. Running the example will ﬁrst provide a summary of the training dataset vocabulary (25,768) and maximum input sequence length in words (1,317)"
      ]
    },
    {
      "cell_type": "code",
      "metadata": {
        "colab": {
          "base_uri": "https://localhost:8080/",
          "height": 754
        },
        "id": "3nhXVy27RFRR",
        "outputId": "e71dce1e-4a0a-4ae0-f795-e30382b9cfb9"
      },
      "source": [
        "plot_model(model, to_file='model.png', show_shapes=True)\n"
      ],
      "execution_count": 18,
      "outputs": [
        {
          "output_type": "execute_result",
          "data": {
            "image/png": "[encoded data removed]",
            "text/plain": [
              "<IPython.core.display.Image object>"
            ]
          },
          "metadata": {},
          "execution_count": 18
        }
      ]
    },
    {
      "cell_type": "markdown",
      "metadata": {
        "id": "yiIomOzI8fPc"
      },
      "source": [
        "# Evaluate Model\n"
      ]
    },
    {
      "cell_type": "code",
      "metadata": {
        "id": "62LeQCKjuxEV"
      },
      "source": [
        "# load doc into memory \n",
        "def load_doc(filename): \n",
        "  # open the file as read only \n",
        "  file = open(filename, 'r') \n",
        "  # read all text \n",
        "  text = file.read() \n",
        "  # close the file \n",
        "  file.close() \n",
        "  return text\n",
        "\n",
        "# turn a doc into clean tokens \n",
        "def clean_doc(doc, vocab): \n",
        "  # split into tokens by white space \n",
        "  tokens = doc.split() \n",
        "  # prepare regex for char filtering \n",
        "  re_punc = re.compile('[%s]' % re.escape(string.punctuation)) \n",
        "  # remove punctuation from each word \n",
        "  tokens = [re_punc.sub('', w) for w in tokens] \n",
        "  # filter out tokens not in vocab \n",
        "  tokens = [w for w in tokens if w in vocab] \n",
        "  tokens = ' '.join(tokens) \n",
        "  return tokens\n",
        "\n"
      ],
      "execution_count": 12,
      "outputs": []
    },
    {
      "cell_type": "code",
      "metadata": {
        "id": "hooNzbrAM6X3"
      },
      "source": [
        "# load all docs in a directory \n",
        "def process_docs(directory, vocab, is_train): \n",
        "  documents = list() \n",
        "  # walk through all files in the folder \n",
        "  for filename in listdir(directory): \n",
        "    # skip any reviews in the test set \n",
        "    if is_train and filename.startswith('cv9'): \n",
        "      continue \n",
        "    if not is_train and not filename.startswith('cv9'): \n",
        "      continue \n",
        "    # create the full path of the file to open \n",
        "    path = directory + '/' + filename \n",
        "    # load the doc\n",
        "    doc = load_doc(path) \n",
        "    # clean doc \n",
        "    tokens = clean_doc(doc, vocab) \n",
        "    # add to list \n",
        "    documents.append(tokens) \n",
        "  return documents\n",
        "\n",
        "# load and clean a dataset \n",
        "def load_clean_dataset(vocab, is_train): \n",
        "  # load documents \n",
        "  neg = process_docs('/content/drive/MyDrive/Dataset/txt_sentoken/neg', vocab, is_train) \n",
        "  pos = process_docs('/content/drive/MyDrive/Dataset/txt_sentoken/pos', vocab, is_train) \n",
        "  docs = neg + pos \n",
        "  # prepare labels \n",
        "  labels = array([0 for _ in range(len(neg))] + [1 for _ in range(len(pos))]) \n",
        "  return docs, labels\n",
        "\n"
      ],
      "execution_count": 13,
      "outputs": []
    },
    {
      "cell_type": "code",
      "metadata": {
        "id": "tihM2ScsNBgK"
      },
      "source": [
        "# fit a tokenizer \n",
        "def create_tokenizer(lines): \n",
        "  tokenizer = Tokenizer() \n",
        "  tokenizer.fit_on_texts(lines) \n",
        "  return tokenizer\n",
        "\n",
        "# integer encode and pad documents \n",
        "def encode_docs(tokenizer, max_length, docs): \n",
        "  # integer encode \n",
        "  encoded = tokenizer.texts_to_sequences(docs) \n",
        "  # pad sequences \n",
        "  padded = pad_sequences(encoded, maxlen=max_length, padding='post') \n",
        "  return padded\n",
        "\n",
        "# classify a review as negative or positive \n",
        "def predict_sentiment(review, vocab, tokenizer, max_length, model): \n",
        "  # clean review \n",
        "  line = clean_doc(review, vocab) \n",
        "  # encode and pad review \n",
        "  padded = encode_docs(tokenizer, max_length, [line]) \n",
        "  # predict sentiment \n",
        "  yhat = model.predict(padded, verbose=0) \n",
        "  # retrieve predicted percentage and label \n",
        "  percent_pos = yhat[0,0] \n",
        "  if round(percent_pos) == 0: \n",
        "    return (1-percent_pos), 'NEGATIVE' \n",
        "  return percent_pos, 'POSITIVE'\n",
        "\n",
        "\n"
      ],
      "execution_count": 14,
      "outputs": []
    },
    {
      "cell_type": "code",
      "metadata": {
        "colab": {
          "base_uri": "https://localhost:8080/"
        },
        "id": "KJzesGXuNFRs",
        "outputId": "79668470-3364-4fcc-b9e9-29c1d49f32b6"
      },
      "source": [
        "# load the vocabulary \n",
        "vocab_filename = 'vocab.txt' \n",
        "vocab = load_doc(vocab_filename) \n",
        "vocab = set(vocab.split()) \n",
        "# load all reviews \n",
        "train_docs, ytrain = load_clean_dataset(vocab, True) \n",
        "test_docs, ytest = load_clean_dataset(vocab, False) \n",
        "# create the tokenizer \n",
        "tokenizer = create_tokenizer(train_docs) \n",
        "# define vocabulary size \n",
        "vocab_size = len(tokenizer.word_index) + 1 \n",
        "print('Vocabulary size: %d' % vocab_size) \n",
        "# calculate the maximum sequence length \n",
        "max_length = max([len(s.split()) for s in train_docs]) \n",
        "print('Maximum length: %d' % max_length) \n",
        "# encode data \n",
        "Xtrain = encode_docs(tokenizer, max_length, train_docs) \n",
        "Xtest = encode_docs(tokenizer, max_length, test_docs) \n",
        "# load the model \n",
        "model = load_model('model.h5') \n",
        "# evaluate model on training dataset \n",
        "_, acc = model.evaluate(Xtrain, ytrain, verbose=0) \n",
        "print('Train Accuracy: %.2f' % (acc*100)) \n",
        "# evaluate model on test dataset \n",
        "_, acc = model.evaluate(Xtest, ytest, verbose=0) \n",
        "print('Test Accuracy: %.2f' % (acc*100))"
      ],
      "execution_count": 15,
      "outputs": [
        {
          "output_type": "stream",
          "name": "stdout",
          "text": [
            "Vocabulary size: 25768\n",
            "Maximum length: 1317\n",
            "Train Accuracy: 100.00\n",
            "Test Accuracy: 89.00\n"
          ]
        }
      ]
    },
    {
      "cell_type": "code",
      "metadata": {
        "colab": {
          "base_uri": "https://localhost:8080/"
        },
        "id": "a8T-Qur_MU8T",
        "outputId": "7fbc1f46-3953-4715-e1bd-74a7cd978294"
      },
      "source": [
        "# test positive text\n",
        "text = 'Everyone will enjoy this film. I love it, recommended!' \n",
        "percent, sentiment = predict_sentiment(text, vocab, tokenizer, max_length, model) \n",
        "print('Review: [%s]\\nSentiment: %s (%.3f%%)' % (text, sentiment, percent*100)) \n",
        "\n",
        "# test negative text \n",
        "text = 'This is a bad movie. Do not watch it. It sucks.' \n",
        "percent, sentiment = predict_sentiment(text, vocab, tokenizer, max_length, model) \n",
        "print('Review: [%s]\\nSentiment: %s (%.3f%%)' % (text, sentiment, percent*100))"
      ],
      "execution_count": 16,
      "outputs": [
        {
          "output_type": "stream",
          "name": "stdout",
          "text": [
            "Review: [Everyone will enjoy this film. I love it, recommended!]\n",
            "Sentiment: POSITIVE (54.285%)\n",
            "Review: [This is a bad movie. Do not watch it. It sucks.]\n",
            "Sentiment: NEGATIVE (60.738%)\n"
          ]
        }
      ]
    },
    {
      "cell_type": "markdown",
      "metadata": {
        "id": "rVcSiChNR2FI"
      },
      "source": [
        "## Observation:\n",
        "\n",
        "Running the example ﬁrst prints the skill of the model on the training and test dataset. We can see that the model achieves 100% accuracy on the training dataset and 89.00% on the test dataset, an impressive score. Next, we can see that the model makes the correct prediction on two contrived movie reviews. We can see that the percentage or conﬁdence of the prediction is close to 50% for both, this may be because the two contrived reviews are very short and the model is expecting sequences of 1,000 or more words.\n"
      ]
    },
    {
      "cell_type": "markdown",
      "metadata": {
        "id": "Fs1V7MAQSH8b"
      },
      "source": [
        "# *** Extensions ***\n",
        "\n",
        "This section lists some ideas for extending the tutorial that you may wish to explore.\n",
        "\n",
        "1. **Data Cleaning**: Explore better data cleaning, perhaps leaving some punctuation in tact or normalizing contractions.\n",
        "\n",
        "2. **Truncated Sequences**: Padding all sequences to the length of the longest sequence might be extreme if the longest sequence is very diﬀerent to all other reviews. Study the distribution of review lengths and truncate reviews to a mean length.\n",
        "\n",
        "3. **Truncated Vocabulary**: We removed infrequently occurring words, but still had a large vocabulary of more than 25,000 words. Explore further reducing the size of the vocabulary and the eﬀect on model skill.\n",
        "\n",
        "4. **Filters and Kernel Size**: The number of ﬁlters and kernel size are important to model skill and were not tuned. Explore tuning these two CNN parameters.\n",
        "\n",
        "5. **Epochs and Batch Size**: The model appears to ﬁt the training dataset quickly. Explore alternate conﬁgurations of the number of training epochs and batch size and use the test dataset as a validation set to pick a better stopping point for training the model.\n",
        "\n",
        "6.  **Deeper Network**: Explore whether a deeper network results in better skill, either in terms of CNN layers, MLP layers and both.\n",
        "\n",
        "7. **Pre-Train an Embedding**: Explore pre-training a Word2Vec word embedding in the model and the impact on model skill with and without further ﬁne tuning during training.\n",
        "\n",
        "8. **Use GloVe Embedding**: Explore loading the pre-trained GloVe embedding and the impact on model skill with and without further ﬁne tuning during training.\n",
        "\n",
        "9. **Longer Test Reviews**: Explore whether the skill of model predictions is dependent on the length of movie reviews as suspected in the ﬁnal section on evaluating the model.\n",
        "\n",
        "10. **Train Final Model**: Train a ﬁnal model on all available data and use it make predictions on real ad hoc movie reviews from the internet.\n"
      ]
    },
    {
      "cell_type": "code",
      "metadata": {
        "id": "p-DUx4JKSR38"
      },
      "source": [
        ""
      ],
      "execution_count": null,
      "outputs": []
    }
  ]
}